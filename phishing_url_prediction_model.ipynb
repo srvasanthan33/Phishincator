{
 "cells": [
  {
   "attachments": {},
   "cell_type": "markdown",
   "id": "c1117b7d-c6ee-4614-8e5b-6fb8f0eee068",
   "metadata": {},
   "source": [
    "# Phishing link detection Flask Application using url feature analysis and ML\n",
    "### \r\n"
   ]
  },
  {
   "cell_type": "markdown",
   "id": "7736f160-2d1b-48dd-a3fc-b8114212689f",
   "metadata": {},
   "source": [
    "Importing dependencies for the project\n"
   ]
  },
  {
   "cell_type": "code",
   "execution_count": 5,
   "id": "44cf7891-4cc1-468c-b77f-73a52a0fdcdc",
   "metadata": {},
   "outputs": [
    {
     "name": "stdout",
     "output_type": "stream",
     "text": [
      "Imported successfully\n"
     ]
    }
   ],
   "source": [
    "import pandas as pd\n",
    "from sklearn.model_selection import train_test_split\n",
    "from sklearn.feature_extraction.text import TfidfVectorizer\n",
    "from sklearn.linear_model import LogisticRegression\n",
    "from sklearn.ensemble import RandomForestClassifier\n",
    "from sklearn.svm import SVC\n",
    "from sklearn.metrics import accuracy_score\n",
    "import pickle\n",
    "print(\"Imported successfully\")"
   ]
  },
  {
   "cell_type": "code",
   "execution_count": 8,
   "id": "9e99c215-bb7a-4fd5-a893-f15e82a12dd6",
   "metadata": {},
   "outputs": [
    {
     "data": {
      "text/html": [
       "<div>\n",
       "<style scoped>\n",
       "    .dataframe tbody tr th:only-of-type {\n",
       "        vertical-align: middle;\n",
       "    }\n",
       "\n",
       "    .dataframe tbody tr th {\n",
       "        vertical-align: top;\n",
       "    }\n",
       "\n",
       "    .dataframe thead th {\n",
       "        text-align: right;\n",
       "    }\n",
       "</style>\n",
       "<table border=\"1\" class=\"dataframe\">\n",
       "  <thead>\n",
       "    <tr style=\"text-align: right;\">\n",
       "      <th></th>\n",
       "      <th>URL</th>\n",
       "      <th>Label</th>\n",
       "    </tr>\n",
       "  </thead>\n",
       "  <tbody>\n",
       "    <tr>\n",
       "      <th>0</th>\n",
       "      <td>nobell.it/70ffb52d079109dca5664cce6f317373782/...</td>\n",
       "      <td>bad</td>\n",
       "    </tr>\n",
       "    <tr>\n",
       "      <th>1</th>\n",
       "      <td>www.dghjdgf.com/paypal.co.uk/cycgi-bin/webscrc...</td>\n",
       "      <td>bad</td>\n",
       "    </tr>\n",
       "    <tr>\n",
       "      <th>2</th>\n",
       "      <td>serviciosbys.com/paypal.cgi.bin.get-into.herf....</td>\n",
       "      <td>bad</td>\n",
       "    </tr>\n",
       "    <tr>\n",
       "      <th>3</th>\n",
       "      <td>mail.printakid.com/www.online.americanexpress....</td>\n",
       "      <td>bad</td>\n",
       "    </tr>\n",
       "    <tr>\n",
       "      <th>4</th>\n",
       "      <td>thewhiskeydregs.com/wp-content/themes/widescre...</td>\n",
       "      <td>bad</td>\n",
       "    </tr>\n",
       "  </tbody>\n",
       "</table>\n",
       "</div>"
      ],
      "text/plain": [
       "                                                 URL Label\n",
       "0  nobell.it/70ffb52d079109dca5664cce6f317373782/...   bad\n",
       "1  www.dghjdgf.com/paypal.co.uk/cycgi-bin/webscrc...   bad\n",
       "2  serviciosbys.com/paypal.cgi.bin.get-into.herf....   bad\n",
       "3  mail.printakid.com/www.online.americanexpress....   bad\n",
       "4  thewhiskeydregs.com/wp-content/themes/widescre...   bad"
      ]
     },
     "execution_count": 8,
     "metadata": {},
     "output_type": "execute_result"
    }
   ],
   "source": [
    "phish_data_df = pd.read_csv('.\\phishing_site_urls.csv')\n",
    "phish_data_df.head()"
   ]
  },
  {
   "cell_type": "code",
   "execution_count": 9,
   "id": "979c6bb5-63eb-4efb-8e83-45c8725c7de2",
   "metadata": {},
   "outputs": [
    {
     "name": "stdout",
     "output_type": "stream",
     "text": [
      "<class 'pandas.core.frame.DataFrame'>\n",
      "RangeIndex: 549346 entries, 0 to 549345\n",
      "Data columns (total 2 columns):\n",
      " #   Column  Non-Null Count   Dtype \n",
      "---  ------  --------------   ----- \n",
      " 0   URL     549346 non-null  object\n",
      " 1   Label   549346 non-null  object\n",
      "dtypes: object(2)\n",
      "memory usage: 8.4+ MB\n"
     ]
    }
   ],
   "source": [
    "phish_data_df.info()"
   ]
  },
  {
   "cell_type": "code",
   "execution_count": 11,
   "id": "3c6ea8f7-21a1-43fc-a563-2d63c0ab9837",
   "metadata": {},
   "outputs": [
    {
     "data": {
      "text/plain": [
       "URL      0\n",
       "Label    0\n",
       "dtype: int64"
      ]
     },
     "execution_count": 11,
     "metadata": {},
     "output_type": "execute_result"
    }
   ],
   "source": [
    "phish_data_df.isnull().sum()"
   ]
  },
  {
   "cell_type": "code",
   "execution_count": 29,
   "id": "1cd6ddd4-debe-4809-a918-335e123334ab",
   "metadata": {},
   "outputs": [
    {
     "name": "stdout",
     "output_type": "stream",
     "text": [
      "0         nobell.it/70ffb52d079109dca5664cce6f317373782/...\n",
      "1         www.dghjdgf.com/paypal.co.uk/cycgi-bin/webscrc...\n",
      "2         serviciosbys.com/paypal.cgi.bin.get-into.herf....\n",
      "3         mail.printakid.com/www.online.americanexpress....\n",
      "4         thewhiskeydregs.com/wp-content/themes/widescre...\n",
      "                                ...                        \n",
      "549341                                      23.227.196.215/\n",
      "549342                                   apple-checker.org/\n",
      "549343                                    apple-iclods.org/\n",
      "549344                                   apple-uptoday.org/\n",
      "549345                                    apple-search.info\n",
      "Name: URL, Length: 549346, dtype: object\n",
      "0         bad\n",
      "1         bad\n",
      "2         bad\n",
      "3         bad\n",
      "4         bad\n",
      "         ... \n",
      "549341    bad\n",
      "549342    bad\n",
      "549343    bad\n",
      "549344    bad\n",
      "549345    bad\n",
      "Name: Label, Length: 549346, dtype: object\n"
     ]
    }
   ],
   "source": [
    "X = phish_data_df['URL']\n",
    "Y = phish_data_df['Label']\n",
    "print(X)\n",
    "print(Y)"
   ]
  },
  {
   "cell_type": "code",
   "execution_count": 39,
   "id": "c1970e42-f3f5-41c6-8ae9-71fe740e91fe",
   "metadata": {},
   "outputs": [
    {
     "name": "stdout",
     "output_type": "stream",
     "text": [
      "Train and Test data successfully splitted\n"
     ]
    }
   ],
   "source": [
    "X_train,X_test,Y_train,Y_test = train_test_split(X,Y,test_size=0.2)\n",
    "print(\"Train and Test data successfully splitted\")"
   ]
  },
  {
   "cell_type": "markdown",
   "id": "54451207-61bd-4260-82d5-fab9f0face4e",
   "metadata": {},
   "source": [
    "#### Converting the text data to fea"
   ]
  }
 ],
 "metadata": {
  "kernelspec": {
   "display_name": "Python 3 (ipykernel)",
   "language": "python",
   "name": "python3"
  },
  "language_info": {
   "codemirror_mode": {
    "name": "ipython",
    "version": 3
   },
   "file_extension": ".py",
   "mimetype": "text/x-python",
   "name": "python",
   "nbconvert_exporter": "python",
   "pygments_lexer": "ipython3",
   "version": "3.10.11"
  }
 },
 "nbformat": 4,
 "nbformat_minor": 5
}
